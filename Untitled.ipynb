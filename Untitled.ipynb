{
 "cells": [
  {
   "cell_type": "code",
   "execution_count": 41,
   "metadata": {},
   "outputs": [],
   "source": [
    "# FIN580 Project1\n",
    "# Group member: Xiaohui Tu, Ying Qin, Xinya Liu, Jiaqi Su"
   ]
  },
  {
   "cell_type": "code",
   "execution_count": 42,
   "metadata": {},
   "outputs": [],
   "source": [
    "# Import Packages and Data\n",
    "\n",
    "import pandas as pd\n",
    "import numpy as np\n",
    "import warnings\n",
    "\n",
    "warnings.filterwarnings('ignore') # Ignore warnings in the script\n",
    "\n",
    "df = pd.read_csv('C:/Users/Xiaohui/Desktop/xhtu/UIUC/Course/FIN580/creditcardfraud/creditcard.csv')\n",
    "df = df.dropna(how = 'any', axis = 0)# Drop NA\n",
    "\n",
    "# Dataset contains 492 frauds out of 284,807 credit card transactions. All the features except 'Time' and 'Amount' in the dataset have been transformed via PCA ."
   ]
  },
  {
   "cell_type": "code",
   "execution_count": 43,
   "metadata": {},
   "outputs": [],
   "source": [
    "# Preprocessing\n",
    "\n",
    "from sklearn import preprocessing\n",
    "\n",
    "df['Amount'] = preprocessing.scale(df['Amount']) # Normalising Column 'Amount'\n",
    "\n",
    "X = df.iloc[:, 1:30]\n",
    "y = df['Class']"
   ]
  },
  {
   "cell_type": "code",
   "execution_count": 45,
   "metadata": {},
   "outputs": [
    {
     "name": "stdout",
     "output_type": "stream",
     "text": [
      "Train on 242085 samples, validate on 42722 samples\n",
      "Epoch 1/10\n",
      "242085/242085 [==============================] - 11s 46us/sample - loss: 29.3521 - acc: 0.9982 - val_loss: 19.6186 - val_acc: 0.9988\n",
      "Epoch 2/10\n",
      "242085/242085 [==============================] - 10s 41us/sample - loss: 29.2955 - acc: 0.9982 - val_loss: 19.6186 - val_acc: 0.9988\n",
      "Epoch 3/10\n",
      "242085/242085 [==============================] - 10s 40us/sample - loss: 29.2955 - acc: 0.9982 - val_loss: 19.6186 - val_acc: 0.9988\n",
      "Epoch 4/10\n",
      "242085/242085 [==============================] - 10s 41us/sample - loss: 29.2955 - acc: 0.9982 - val_loss: 19.6186 - val_acc: 0.9988\n",
      "Epoch 5/10\n",
      "242085/242085 [==============================] - 10s 41us/sample - loss: 29.2955 - acc: 0.9982 - val_loss: 19.6186 - val_acc: 0.9988\n",
      "Epoch 6/10\n",
      "242085/242085 [==============================] - 10s 41us/sample - loss: 29.2955 - acc: 0.9982 - val_loss: 19.6186 - val_acc: 0.9988\n",
      "Epoch 7/10\n",
      "242085/242085 [==============================] - 10s 41us/sample - loss: 29.2955 - acc: 0.9982 - val_loss: 19.6186 - val_acc: 0.9988\n",
      "Epoch 8/10\n",
      "242085/242085 [==============================] - 10s 42us/sample - loss: 29.2955 - acc: 0.9982 - val_loss: 19.6186 - val_acc: 0.9988\n",
      "Epoch 9/10\n",
      "242085/242085 [==============================] - 10s 42us/sample - loss: 29.2955 - acc: 0.9982 - val_loss: 19.6186 - val_acc: 0.9988\n",
      "Epoch 10/10\n",
      "242085/242085 [==============================] - 10s 41us/sample - loss: 29.2955 - acc: 0.9982 - val_loss: 19.6186 - val_acc: 0.9988\n"
     ]
    }
   ],
   "source": [
    "# Modeling\n",
    "\n",
    "import tensorflow as tf\n",
    "from tensorflow.keras import Sequential\n",
    "from tensorflow.keras.layers import Dense\n",
    "from tensorflow.keras.utils import to_categorical\n",
    "\n",
    "y = to_categorical(y)\n",
    "\n",
    "model = Sequential()\n",
    "model.add(Dense(29, input_dim = X_train.shape[1], activation = 'relu'))\n",
    "model.add(Dense(2 ,activation = 'softmax'))\n",
    "\n",
    "model.compile(optimizer = 'sgd', loss = 'categorical_crossentropy', metrics = ['accuracy'], loss_weights = [1000])\n",
    "model_training = model.fit(X, y, epochs = 10, validation_split = 0.15)"
   ]
  },
  {
   "cell_type": "code",
   "execution_count": null,
   "metadata": {},
   "outputs": [],
   "source": []
  }
 ],
 "metadata": {
  "kernelspec": {
   "display_name": "Python 3",
   "language": "python",
   "name": "python3"
  },
  "language_info": {
   "codemirror_mode": {
    "name": "ipython",
    "version": 3
   },
   "file_extension": ".py",
   "mimetype": "text/x-python",
   "name": "python",
   "nbconvert_exporter": "python",
   "pygments_lexer": "ipython3",
   "version": "3.7.1"
  }
 },
 "nbformat": 4,
 "nbformat_minor": 2
}
